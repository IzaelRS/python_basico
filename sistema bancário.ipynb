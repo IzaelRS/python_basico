{
 "cells": [
  {
   "cell_type": "code",
   "execution_count": 1,
   "metadata": {},
   "outputs": [],
   "source": [
    "# Escreva um sistema bancário que regitre um caixa de um banco\n",
    "# O programa começa perguntando se o usuário gostaria de criar um conta\n",
    "# ou fechar o programa. Se ele escolher fechar o programa escolha uma mensagem de agradecimento\n",
    "# caso ao contrário ele vai pedir que o usuário escolha um número de seis disgitos e, então, \n",
    "# se o número  não existir no registro do banco, ele irá pedir um valor\n",
    "# de depósito. Depois o banco perguntará se deseja ver o saldo do banco, se sim, ele vái imprimir o balanço geral\n",
    "# do banco, se não ele entrará em loop."
   ]
  },
  {
   "cell_type": "code",
   "execution_count": null,
   "metadata": {},
   "outputs": [
    {
     "name": "stdout",
     "output_type": "stream",
     "text": [
      " Se deseja criar uma conta digite (1), se deseja fechar o programa digite (0): 1\n"
     ]
    }
   ],
   "source": [
    "#var\n",
    "contas = []\n",
    "depositos = []\n",
    "saldo = 0\n",
    "\n",
    "\n",
    "def main ():#função menu\n",
    "    opcao = bool(int(input(\" Se deseja criar uma conta digite (1), se deseja fechar o programa digite (0): \" )))#pergunta\n",
    "    while opcao == 1: # Automaticamente o WHILE já reconhece como verdadeiro\n",
    "        criarConta () #True\n",
    "        verSaldo () # True\n",
    "        opcao = bool(int(input(\" Se deseja criar uma conta digite (1), se deseja fechar o programa digite (0): \" )))#execução\n",
    "# como é uma var Boleana e inteira, se digitar 1 ela vai abrir, se digitar 0 ela não vai entender e irá fechar\n",
    "        \n",
    "def criarConta ():#funçao 1\n",
    "    global contas, depositos, saldo\n",
    "    num_conta = int((input(\"Digite o número da conta: \")))# variavel num_conta\n",
    "    \n",
    "    while num_conta in contas:\n",
    "        print(\"conta já existente. Dijite novamente. \")\n",
    "        num_conta = int((input(\"Digite o número da conta: \"))) # o app vai verificar se já existe alguma conta amazenada no array contas\n",
    "    \n",
    "    contas.append(num_conta) # caso seja falso, o app vai adicionar a var num_contas no array contas\n",
    "    deposito = float(input(\"Digite o valor do primeiro deposito: \"))\n",
    "    while deposito <=0:\n",
    "        print (\"Valor do depósito inválido\")#enquanto ele digitar um valor invalido continuará mostrando essa mensagem\n",
    "        deposito =float(input(\"Digite o valor do primeiro deposito: \"))\n",
    "    depositos.append(deposito) \n",
    "    saldo += deposito\n",
    "    \n",
    "def verSaldo ():#função 2\n",
    "    global saldo\n",
    "    opcao = bool(int(input(\"Deseja ver o saldo do banco? (1-SIM  / 2- Não)\")))\n",
    "    if opcao: #true\n",
    "        print('O saldo = R$:', saldo)\n",
    "        \n",
    "main()"
   ]
  },
  {
   "cell_type": "code",
   "execution_count": null,
   "metadata": {},
   "outputs": [],
   "source": []
  }
 ],
 "metadata": {
  "kernelspec": {
   "display_name": "Python 3",
   "language": "python",
   "name": "python3"
  },
  "language_info": {
   "codemirror_mode": {
    "name": "ipython",
    "version": 3
   },
   "file_extension": ".py",
   "mimetype": "text/x-python",
   "name": "python",
   "nbconvert_exporter": "python",
   "pygments_lexer": "ipython3",
   "version": "3.8.5"
  }
 },
 "nbformat": 4,
 "nbformat_minor": 4
}

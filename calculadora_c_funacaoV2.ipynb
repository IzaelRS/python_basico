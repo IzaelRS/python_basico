{
 "cells": [
  {
   "cell_type": "code",
   "execution_count": null,
   "metadata": {},
   "outputs": [],
   "source": [
    "num1 = 0\n",
    "num2 = 0\n",
    "\n",
    "def main():\n",
    "    global num1,num2\n",
    "    num1 = int(input(\"Digite o primeiro número \\n: \"))\n",
    "    num2 = int(input(\"Digite o segundo número \\n: \"))\n",
    "    operador = str(input(\"\"\" Digite o modelo do operador:\\n \n",
    "    '+' adição, '-' subtração, '*' multiplicação & '/' divisão :\\n \"\"\" ))\n",
    "    if operador == '+':\n",
    "        adicao()\n",
    "    elif operador == '-':\n",
    "        subtracao()\n",
    "    elif operador == '*':\n",
    "        multiplicacao()       \n",
    "    elif operador == '/':\n",
    "        divisao()\n",
    "    else:\n",
    "        print(\"Caracter não encontrado\")\n",
    "        return main()\n",
    "    \n",
    "def adicao():\n",
    "    global num1,num2\n",
    "    total = num1 + num2\n",
    "    print(\"O resultado de {0} + {1} = {2}\".format(num1,num2,total))\n",
    "    \n",
    "def subtracao():\n",
    "    global num1,num2\n",
    "    total = num1 - num2\n",
    "    print(\"O resultado de {0} - {1} = {2}\".format(num1,num2,total))\n",
    "    \n",
    "def multiplicacao():\n",
    "    global num1,num2\n",
    "    total = num1 * num2\n",
    "    print(\"O resultado de {0} * {1} = {2}\".format(num1,num2,total))\n",
    "    \n",
    "def divisao():\n",
    "    global num1,num2\n",
    "    if num2 != 0:\n",
    "        total = num1 / num2\n",
    "        print(\"O resultado de {0} / {1} = {2}\".format(num1,num2,total))\n",
    "    else:\n",
    "        print ('Operação inválida')\n",
    "        return main()   \n",
    "main()"
   ]
  },
  {
   "cell_type": "code",
   "execution_count": null,
   "metadata": {},
   "outputs": [],
   "source": []
  }
 ],
 "metadata": {
  "kernelspec": {
   "display_name": "Python 3",
   "language": "python",
   "name": "python3"
  },
  "language_info": {
   "codemirror_mode": {
    "name": "ipython",
    "version": 3
   },
   "file_extension": ".py",
   "mimetype": "text/x-python",
   "name": "python",
   "nbconvert_exporter": "python",
   "pygments_lexer": "ipython3",
   "version": "3.10.1"
  }
 },
 "nbformat": 4,
 "nbformat_minor": 4
}

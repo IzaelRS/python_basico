{
 "cells": [
  {
   "cell_type": "code",
   "execution_count": 1,
   "metadata": {
    "scrolled": true
   },
   "outputs": [
    {
     "name": "stdout",
     "output_type": "stream",
     "text": [
      "Qual o comprimento do cômodo?\n",
      "None50\n",
      "Qual a largura do cômodo?\n",
      "None60\n",
      "Para esse cômodo serão nescessários 3900.0 metros quadrados de piso e  242.00000000000003 metros de rodapé\n"
     ]
    }
   ],
   "source": [
    "C=float(input(print(\"Qual o comprimento do cômodo?\")))\n",
    "L=float(input(print(\"Qual a largura do cômodo?\")))\n",
    "X=float(L*C)*1.3\n",
    "Y=float(2*L+2*C)*1.1\n",
    "print(\"Para esse cômodo serão nescessários\",X,\"metros quadrados de piso e \",Y,\"metros de rodapé\")"
   ]
  },
  {
   "cell_type": "code",
   "execution_count": null,
   "metadata": {},
   "outputs": [],
   "source": []
  }
 ],
 "metadata": {
  "kernelspec": {
   "display_name": "Python 3",
   "language": "python",
   "name": "python3"
  },
  "language_info": {
   "codemirror_mode": {
    "name": "ipython",
    "version": 3
   },
   "file_extension": ".py",
   "mimetype": "text/x-python",
   "name": "python",
   "nbconvert_exporter": "python",
   "pygments_lexer": "ipython3",
   "version": "3.8.5"
  },
  "metadata": {
   "interpreter": {
    "hash": "25bf1dab56f13e21d80318cd5e789e076f92a14fa9924f370a2a818164c863f4"
   }
  }
 },
 "nbformat": 4,
 "nbformat_minor": 4
}
